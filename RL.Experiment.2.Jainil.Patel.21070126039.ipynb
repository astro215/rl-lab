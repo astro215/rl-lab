{
 "cells": [
  {
   "cell_type": "markdown",
   "id": "cff6910296678888",
   "metadata": {
    "collapsed": false
   },
   "source": [
    "# _PRN: 21070126039_ &emsp;_Name: Jainil Patel_&emsp; _Batch: AI/ML A2_"
   ]
  },
  {
   "cell_type": "markdown",
   "id": "3b47b3d601f10939",
   "metadata": {
    "collapsed": false
   },
   "source": [
    "# Reinforcement Learning "
   ]
  },
  {
   "cell_type": "markdown",
   "id": "b0a69d7f48a19041",
   "metadata": {
    "collapsed": false
   },
   "source": [
    "# Experiment 2 \n",
    "## Title: A case study to understand Markov decision process (MDP) terminologies like states, state space, actions, action space, trajectory, episode, reward, return, and policy. Implement a random policy in a 5×5 Maize environment.\t\n",
    "\n",
    "## Objective: Students will be able\n",
    "- To understand MDP terminologies\n",
    "- To analyze control tasks in terms of state space, action space, rewards and returns\n",
    "- To implement random policy in a 5×5 Maize environment\t\n",
    "\n",
    "Date : 26/02/2024\n",
    " "
   ]
  },
  {
   "cell_type": "markdown",
   "source": [
    "## Importing the required libraries"
   ],
   "metadata": {
    "collapsed": false
   },
   "id": "2453bfe700a1f678"
  },
  {
   "cell_type": "code",
   "execution_count": 1,
   "id": "1192e95320430bde",
   "metadata": {
    "collapsed": false,
    "ExecuteTime": {
     "end_time": "2024-03-04T18:16:46.822214600Z",
     "start_time": "2024-03-04T18:16:45.846967700Z"
    }
   },
   "outputs": [
    {
     "name": "stderr",
     "output_type": "stream",
     "text": [
      "C:\\Users\\jaini\\Desktop\\py venv\\RL\\RL\\Lib\\site-packages\\pygame\\pkgdata.py:25: DeprecationWarning: pkg_resources is deprecated as an API. See https://setuptools.pypa.io/en/latest/pkg_resources.html\n",
      "  from pkg_resources import resource_stream, resource_exists\n"
     ]
    }
   ],
   "source": [
    "# Import the required libraries\n",
    "import gym\n",
    "import numpy as np\n",
    "from IPython import display\n",
    "from matplotlib import pyplot as plt\n",
    "\n",
    "from envs import Maze \n",
    "%matplotlib inline\n"
   ]
  },
  {
   "cell_type": "markdown",
   "source": [
    "## Define a policy"
   ],
   "metadata": {
    "collapsed": false
   },
   "id": "12ada27b09260ae"
  },
  {
   "cell_type": "markdown",
   "source": [
    "This section defines a random policy function for the reinforcement learning agent.\n"
   ],
   "metadata": {
    "collapsed": false
   },
   "id": "111fdb45dbc710c3"
  },
  {
   "cell_type": "code",
   "execution_count": 2,
   "id": "fafc9e6dcc8e6623",
   "metadata": {
    "collapsed": false,
    "ExecuteTime": {
     "end_time": "2024-03-04T18:16:46.830082Z",
     "start_time": "2024-03-04T18:16:46.824201900Z"
    }
   },
   "outputs": [],
   "source": [
    "# Define a policy \n",
    "def random_policy(state):\n",
    "    return np.array([0.25] * 4)\n"
   ]
  },
  {
   "cell_type": "markdown",
   "source": [],
   "metadata": {
    "collapsed": false
   },
   "id": "bc3cfdd727edea0d"
  },
  {
   "cell_type": "markdown",
   "source": [
    "\n",
    "## Playing an episode using the random policy"
   ],
   "metadata": {
    "collapsed": false
   },
   "id": "d2e73e6de84ef037"
  },
  {
   "cell_type": "markdown",
   "source": [
    "This section creates a Maze environment and plays an episode using the random policy.\n"
   ],
   "metadata": {
    "collapsed": false
   },
   "id": "a798e0d528814ef8"
  },
  {
   "cell_type": "markdown",
   "source": [
    "### Create an environment and play an episode using the random policy."
   ],
   "metadata": {
    "collapsed": false
   },
   "id": "d513ccae2ebb1926"
  },
  {
   "cell_type": "code",
   "execution_count": 3,
   "outputs": [],
   "source": [
    "env = Maze()\n",
    "state = env.reset()"
   ],
   "metadata": {
    "collapsed": false,
    "ExecuteTime": {
     "end_time": "2024-03-04T18:16:46.859717300Z",
     "start_time": "2024-03-04T18:16:46.827563600Z"
    }
   },
   "id": "fba7cf76382bf4f8"
  },
  {
   "cell_type": "markdown",
   "source": [
    "Compute p(a∣s) ∀a∈{0,1,2,3}"
   ],
   "metadata": {
    "collapsed": false
   },
   "id": "7d58726cef4f7cb"
  },
  {
   "cell_type": "markdown",
   "source": [
    "This section calculates the probability of each action given the current state.\n"
   ],
   "metadata": {
    "collapsed": false
   },
   "id": "7ec041d9fa100c40"
  },
  {
   "cell_type": "code",
   "execution_count": 4,
   "outputs": [],
   "source": [
    "action_probabilities = random_policy(state)  # p(a∣s) ∀a∈{0,1,2,3}"
   ],
   "metadata": {
    "collapsed": false,
    "ExecuteTime": {
     "end_time": "2024-03-04T18:16:46.867725Z",
     "start_time": "2024-03-04T18:16:46.837371900Z"
    }
   },
   "id": "dbd71e423269e0b4"
  },
  {
   "cell_type": "code",
   "execution_count": 5,
   "outputs": [
    {
     "data": {
      "text/plain": "<Figure size 640x480 with 1 Axes>",
      "image/png": "[encoded data removed]"
     },
     "metadata": {},
     "output_type": "display_data"
    }
   ],
   "source": [
    "objects = ('Up', 'Right', 'Down', 'Left')\n",
    "y_pos = np.arange(len(objects))\n",
    "\n",
    "plt.bar(y_pos, action_probabilities, align='center', alpha=0.5)\n",
    "plt.xticks(y_pos, objects)\n",
    "plt.ylabel('p(a∣s)')\n",
    "plt.title('Action Probabilities')\n",
    "plt.tight_layout()\n",
    "plt.show()"
   ],
   "metadata": {
    "collapsed": false,
    "ExecuteTime": {
     "end_time": "2024-03-04T18:16:46.949524200Z",
     "start_time": "2024-03-04T18:16:46.846698700Z"
    }
   },
   "id": "9468473c0d748d38"
  },
  {
   "cell_type": "markdown",
   "source": [
    "### Use the random policy to play an episode"
   ],
   "metadata": {
    "collapsed": false
   },
   "id": "37d0f1a135150b23"
  },
  {
   "cell_type": "markdown",
   "source": [
    "This section uses the random policy to play an episode in the Maze environment, visualizing the agent's movements in the environment."
   ],
   "metadata": {
    "collapsed": false
   },
   "id": "8ec02225dc41c37c"
  },
  {
   "cell_type": "code",
   "execution_count": 6,
   "outputs": [
    {
     "data": {
      "text/plain": "<Figure size 640x480 with 1 Axes>",
      "image/png": "[encoded data removed]"
     },
     "metadata": {},
     "output_type": "display_data"
    }
   ],
   "source": [
    "env.reset()\n",
    "done = False\n",
    "img = plt.imshow(env.render(mode='rgb_array'))\n",
    "while not done:\n",
    "    action = np.random.choice(range(4), 1, p=action_probabilities)\n",
    "    state, reward, done, _ = env.step(action)\n",
    "    img.set_data(env.render(mode='rgb_array'))\n",
    "    plt.axis('off')\n",
    "    display.display(plt.gcf())\n",
    "    display.clear_output(wait=True)\n",
    "    \n",
    "    \n",
    "\n",
    "env.close()\n",
    "    "
   ],
   "metadata": {
    "collapsed": false
   },
   "id": "d1a1edb983439cda"
  },
  {
   "cell_type": "markdown",
   "source": [],
   "metadata": {
    "collapsed": false
   },
   "id": "d9f8399e155fd643"
  }
 ],
 "metadata": {
  "kernelspec": {
   "display_name": "Python 3 (ipykernel)",
   "language": "python",
   "name": "python3"
  },
  "language_info": {
   "codemirror_mode": {
    "name": "ipython",
    "version": 3
   },
   "file_extension": ".py",
   "mimetype": "text/x-python",
   "name": "python",
   "nbconvert_exporter": "python",
   "pygments_lexer": "ipython3",
   "version": "3.11.4"
  }
 },
 "nbformat": 4,
 "nbformat_minor": 5
}
