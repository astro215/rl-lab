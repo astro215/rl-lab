{
 "cells": [
  {
   "cell_type": "markdown",
   "source": [
    "# _PRN: 21070126039_ &emsp;_Name: Jainil Patel_&emsp; _Batch: AI/ML A2_"
   ],
   "metadata": {
    "collapsed": false
   },
   "id": "106a8b1d0a554d97"
  },
  {
   "cell_type": "markdown",
   "source": [
    "# Reinforcement Learning "
   ],
   "metadata": {
    "collapsed": false
   },
   "id": "815822070b77992e"
  },
  {
   "cell_type": "markdown",
   "source": [
    "# Experiment 1\n",
    "## Title: Installation, learning OpenAI Gym API for running basic agent loops for classic controls\n",
    "## Objective: Students will be able \n",
    " - To install OpenAI Gym API for running basic agent loops\n",
    " - To explain simple classic control tasks like Cart pole, Acrobot, Mountain car (continuous and discrete), and pendulum in terms of state space and action space\n"
   ],
   "metadata": {
    "collapsed": false
   },
   "id": "31e3b6c1e9073de4"
  },
  {
   "cell_type": "markdown",
   "source": [
    "## Importing the required libraries"
   ],
   "metadata": {
    "collapsed": false
   },
   "id": "2f712f559c395c5b"
  },
  {
   "cell_type": "code",
   "execution_count": 2,
   "outputs": [],
   "source": [
    "# Import the required libraries\n",
    "import gym\n",
    "import numpy as np\n",
    "from IPython import display\n",
    "from matplotlib import pyplot as plt\n",
    "\n",
    "from envs import Maze \n",
    "%matplotlib inline\n"
   ],
   "metadata": {
    "collapsed": false,
    "ExecuteTime": {
     "end_time": "2024-03-04T17:43:02.094827400Z",
     "start_time": "2024-03-04T17:43:02.085549800Z"
    }
   },
   "id": "b9d4e7499b45e465"
  },
  {
   "cell_type": "code",
   "execution_count": 3,
   "outputs": [],
   "source": [
    "# Define a function to test the environment\n",
    "def test_env(env:gym.Env) -> None:\n",
    "    \"\"\"\n",
    "    Function to test the environment by taking random actions and rendering frames.\n",
    "    \n",
    "    Parameters:\n",
    "    env (gym.Env): The OpenAI Gym environment to be tested.\n",
    "    \n",
    "    Returns:\n",
    "    None\n",
    "    \"\"\"\n",
    "    env.reset()\n",
    "    done = False\n",
    "    img = plt.imshow(env.render(mode='rgb_array'))\n",
    "    while not done:\n",
    "        _, _, done, _ = env.step(env.action_space.sample())\n",
    "        img.set_data(env.render(mode='rgb_array'))\n",
    "        plt.axis('on')\n",
    "        display.display(plt.gcf())\n",
    "        display.clear_output(wait=True)\n"
   ],
   "metadata": {
    "collapsed": false,
    "ExecuteTime": {
     "end_time": "2024-03-04T17:43:02.851255800Z",
     "start_time": "2024-03-04T17:43:02.843156300Z"
    }
   },
   "id": "69ad02594dec0c70"
  },
  {
   "cell_type": "markdown",
   "source": [
    "## CartPole : Keep the tip of the pole straight\n",
    "\n",
    "The CartPole environment simulates a pole attached to a cart, which moves along a frictionless track. The agent must apply force to move the cart left or right to keep the pole balanced.\n"
   ],
   "metadata": {
    "collapsed": false
   },
   "id": "f363a2f352b2badb"
  },
  {
   "cell_type": "code",
   "execution_count": 4,
   "outputs": [
    {
     "data": {
      "text/plain": "<Figure size 640x480 with 1 Axes>",
      "image/png": "[encoded data removed]"
     },
     "metadata": {},
     "output_type": "display_data"
    }
   ],
   "source": [
    "# Create the environment for CartPole\n",
    "env = gym.make('CartPole-v1')   \n",
    "# Test the environment\n",
    "test_env(env)                   \n",
    "# Close the environment\n",
    "env.close()                     \n"
   ],
   "metadata": {
    "collapsed": false
   },
   "id": "e3d6f2bd0bb5ff8e"
  },
  {
   "cell_type": "code",
   "execution_count": 5,
   "outputs": [
    {
     "data": {
      "text/plain": "Box([-4.8000002e+00 -3.4028235e+38 -4.1887903e-01 -3.4028235e+38], [4.8000002e+00 3.4028235e+38 4.1887903e-01 3.4028235e+38], (4,), float32)"
     },
     "execution_count": 5,
     "metadata": {},
     "output_type": "execute_result"
    }
   ],
   "source": [
    "# Print observation space\n",
    "env.observation_space\n"
   ],
   "metadata": {
    "collapsed": false,
    "ExecuteTime": {
     "end_time": "2024-03-04T17:43:12.402843700Z",
     "start_time": "2024-03-04T17:43:12.386930500Z"
    }
   },
   "id": "7fde4f8a189d43c3"
  },
  {
   "cell_type": "markdown",
   "source": [
    "In  the CartPole environment, the four numbers in the observation represent the following:\n",
    "- Cart Position: The x-coordinate of the cart on the track. The track is 2.4 units long, so the cart position ranges from -1.2 to 1.2.\n",
    "- Cart Velocity: The velocity of the cart along the track. There's no specific range for this, but it's generally a large negative or positive number.\n",
    "- Pole Angle: The angle of the pole with the vertical. The pole can swing from -41.8 degrees to 41.8 degrees, which is approximately -0.41887903 to 0.41887903 in radians.\n",
    "- Pole Velocity At Tip: The angular velocity of the tip of the pole. Like cart velocity, there's no specific range for this."
   ],
   "metadata": {
    "collapsed": false
   },
   "id": "4b78f01e39056696"
  },
  {
   "cell_type": "code",
   "execution_count": 6,
   "outputs": [
    {
     "data": {
      "text/plain": "Discrete(2)"
     },
     "execution_count": 6,
     "metadata": {},
     "output_type": "execute_result"
    }
   ],
   "source": [
    "# Print action space\n",
    "env.action_space\n"
   ],
   "metadata": {
    "collapsed": false,
    "ExecuteTime": {
     "end_time": "2024-03-04T17:43:13.491112600Z",
     "start_time": "2024-03-04T17:43:13.489600600Z"
    }
   },
   "id": "91f3d681b04ca401"
  },
  {
   "cell_type": "markdown",
   "source": [
    "In the CartPole environment, the agent can take one of two actions:\n",
    "- 0: Push the cart to the left\n",
    "- 1: Push the cart to the right"
   ],
   "metadata": {
    "collapsed": false
   },
   "id": "c3e7fee480001b90"
  },
  {
   "cell_type": "markdown",
   "source": [
    "## Acrobot"
   ],
   "metadata": {
    "collapsed": false
   },
   "id": "c3888b3c1237aa2f"
  },
  {
   "cell_type": "code",
   "execution_count": 7,
   "outputs": [
    {
     "data": {
      "text/plain": "<Figure size 640x480 with 1 Axes>",
      "image/png": "[encoded data removed]"
     },
     "metadata": {},
     "output_type": "display_data"
    }
   ],
   "source": [
    "# Create the environment for the Acrobot\n",
    "env = gym.make('Acrobot-v1')\n",
    "# Test the environment\n",
    "test_env(env)\n",
    "# Close the environment\n",
    "env.close()\n"
   ],
   "metadata": {
    "collapsed": false
   },
   "id": "b278069f6a62298b"
  },
  {
   "cell_type": "code",
   "execution_count": 8,
   "outputs": [
    {
     "data": {
      "text/plain": "Box([ -1.        -1.        -1.        -1.       -12.566371 -28.274334], [ 1.        1.        1.        1.       12.566371 28.274334], (6,), float32)"
     },
     "execution_count": 8,
     "metadata": {},
     "output_type": "execute_result"
    }
   ],
   "source": [
    "# Print observation space\n",
    "env.observation_space\n"
   ],
   "metadata": {
    "collapsed": false,
    "ExecuteTime": {
     "end_time": "2024-03-04T17:46:57.515779300Z",
     "start_time": "2024-03-04T17:46:57.510912500Z"
    }
   },
   "id": "9d8e77424754d79a"
  },
  {
   "cell_type": "markdown",
   "source": [],
   "metadata": {
    "collapsed": false
   },
   "id": "933e5216f29fa210"
  },
  {
   "cell_type": "code",
   "execution_count": null,
   "outputs": [],
   "source": [
    "# Print action space\n",
    "env.action_space\n"
   ],
   "metadata": {
    "collapsed": false
   },
   "id": "7a4ce25710850c94"
  },
  {
   "cell_type": "markdown",
   "source": [
    "## Acrobot Environment\n",
    "The Acrobot system includes two joints and two links, where the joint between the two links is actuated. The state space is defined by the joint angles and their derivatives, while the action space consists of discrete actions representing the torque applied to the joint.\n",
    "\n",
    "In the observation space, there are six dimensions:\n",
    "1. Cosine and sine of the first joint angle\n",
    "2. Cosine and sine of the second joint angle\n",
    "3. Angular velocity of the first joint\n",
    "4. Angular velocity of the second joint\n",
    "\n",
    "In the action space, there are three discrete actions:\n",
    "- 0: Apply negative torque\n",
    "- 1: Apply no torque\n",
    "- 2: Apply positive torque\n"
   ],
   "metadata": {
    "collapsed": false
   },
   "id": "6ffd9a526384aa35"
  },
  {
   "cell_type": "markdown",
   "source": [
    "## MountainCar"
   ],
   "metadata": {
    "collapsed": false
   },
   "id": "20741a22423d062b"
  },
  {
   "cell_type": "code",
   "execution_count": 9,
   "outputs": [
    {
     "data": {
      "text/plain": "<Figure size 640x480 with 1 Axes>",
      "image/png": "[encoded data removed]"
     },
     "metadata": {},
     "output_type": "display_data"
    }
   ],
   "source": [
    "# Create the environment for the MountainCar\n",
    "env = gym.make('MountainCar-v0')\n",
    "# Test the environment\n",
    "test_env(env)\n",
    "# Close the environment\n",
    "env.close()\n"
   ],
   "metadata": {
    "collapsed": false
   },
   "id": "416cdd5fdedc41a9"
  },
  {
   "cell_type": "code",
   "execution_count": 10,
   "outputs": [
    {
     "data": {
      "text/plain": "Box([-1.2  -0.07], [0.6  0.07], (2,), float32)"
     },
     "execution_count": 10,
     "metadata": {},
     "output_type": "execute_result"
    }
   ],
   "source": [
    "# Print observation space\n",
    "env.observation_space\n"
   ],
   "metadata": {
    "collapsed": false,
    "ExecuteTime": {
     "end_time": "2024-03-04T17:48:37.688461500Z",
     "start_time": "2024-03-04T17:48:37.683559700Z"
    }
   },
   "id": "c8c6d1e108d00fb7"
  },
  {
   "cell_type": "code",
   "execution_count": 11,
   "outputs": [
    {
     "data": {
      "text/plain": "Discrete(3)"
     },
     "execution_count": 11,
     "metadata": {},
     "output_type": "execute_result"
    }
   ],
   "source": [
    "# Print action space\n",
    "env.action_space\n"
   ],
   "metadata": {
    "collapsed": false,
    "ExecuteTime": {
     "end_time": "2024-03-04T17:48:37.699108700Z",
     "start_time": "2024-03-04T17:48:37.691463100Z"
    }
   },
   "id": "e9d6176ae00b460f"
  },
  {
   "cell_type": "markdown",
   "source": [
    "## MountainCar Environment\n",
    "The MountainCar problem involves a car that must climb a hill to reach a goal position. However, the car's engine is not powerful enough to climb the hill directly. Instead, it must learn to use potential energy by driving up the opposite hill before reaching the goal.\n",
    "\n",
    "In the observation space, there are two dimensions:\n",
    "1. Car position\n",
    "2. Car velocity\n",
    "\n",
    "In the action space, there are three discrete actions:\n",
    "- 0: Push the car to the left\n",
    "- 1: Do nothing (don't accelerate the car)\n",
    "- 2: Push the car to the right\n"
   ],
   "metadata": {
    "collapsed": false
   },
   "id": "89c51c36fb0133f4"
  },
  {
   "cell_type": "markdown",
   "source": [
    "## The Pendulum"
   ],
   "metadata": {
    "collapsed": false
   },
   "id": "73424a8d1bbd00f3"
  },
  {
   "cell_type": "code",
   "execution_count": 12,
   "outputs": [
    {
     "data": {
      "text/plain": "<Figure size 640x480 with 1 Axes>",
      "image/png": "[encoded data removed]"
     },
     "metadata": {},
     "output_type": "display_data"
    }
   ],
   "source": [
    "# Create the environment for the Pendulum\n",
    "env = gym.make('Pendulum-v1')\n",
    "# Test the environment\n",
    "test_env(env)\n",
    "# Close the environment\n",
    "env.close()\n"
   ],
   "metadata": {
    "collapsed": false
   },
   "id": "b5f34c52fee98224"
  },
  {
   "cell_type": "code",
   "execution_count": 13,
   "outputs": [
    {
     "data": {
      "text/plain": "Box([-1. -1. -8.], [1. 1. 8.], (3,), float32)"
     },
     "execution_count": 13,
     "metadata": {},
     "output_type": "execute_result"
    }
   ],
   "source": [
    "# Print observation space\n",
    "env.observation_space\n"
   ],
   "metadata": {
    "collapsed": false,
    "ExecuteTime": {
     "end_time": "2024-03-04T17:49:28.031559900Z",
     "start_time": "2024-03-04T17:49:28.010970700Z"
    }
   },
   "id": "fb44571a487e14b2"
  },
  {
   "cell_type": "code",
   "execution_count": 14,
   "outputs": [
    {
     "data": {
      "text/plain": "Box(-2.0, 2.0, (1,), float32)"
     },
     "execution_count": 14,
     "metadata": {},
     "output_type": "execute_result"
    }
   ],
   "source": [
    "# Print action space\n",
    "env.action_space\n"
   ],
   "metadata": {
    "collapsed": false,
    "ExecuteTime": {
     "end_time": "2024-03-04T17:49:28.589498500Z",
     "start_time": "2024-03-04T17:49:28.581988900Z"
    }
   },
   "id": "e37c5e7da3e8e3f0"
  },
  {
   "cell_type": "markdown",
   "source": [
    "## Pendulum Environment\n",
    "The Pendulum environment simulates a simple pendulum consisting of a mass, a rigid rod, and a pivot point. The agent's objective is to swing the pendulum upright and maintain its balance.\n",
    "\n",
    "In the observation space, there are three dimensions:\n",
    "1. Cosine of the angle between the rod and the vertical axis\n",
    "2. Sine of the angle between the rod and the vertical axis\n",
    "3. Angular velocity of the pendulum\n",
    "\n",
    "In the action space, the agent can apply continuous torque in the range of [-2, 2] to control the pendulum's motion.\n"
   ],
   "metadata": {
    "collapsed": false
   },
   "id": "76a319168af40e35"
  },
  {
   "cell_type": "markdown",
   "source": [
    "## Conclusion\n",
    "In this experiment, we learned how to install the OpenAI Gym API and test the classic control environments, including CartPole, Acrobot, MountainCar, and Pendulum. We also discussed the state space and action space for each environment.\n"
   ],
   "metadata": {
    "collapsed": false
   },
   "id": "8d0d54f0fcf993e3"
  },
  {
   "cell_type": "markdown",
   "source": [
    "## Reference\n",
    "### OpenAI Gym Documentation: \n",
    " - https://www.gymlibrary.dev/index.html\n",
    " - https://gymnasium.farama.org/\n"
   ],
   "metadata": {
    "collapsed": false
   },
   "id": "f7439ae2087ef2d0"
  },
  {
   "cell_type": "code",
   "execution_count": null,
   "outputs": [],
   "source": [],
   "metadata": {
    "collapsed": false
   },
   "id": "245148f3759f976a"
  }
 ],
 "metadata": {
  "kernelspec": {
   "display_name": "Python 3",
   "language": "python",
   "name": "python3"
  },
  "language_info": {
   "codemirror_mode": {
    "name": "ipython",
    "version": 2
   },
   "file_extension": ".py",
   "mimetype": "text/x-python",
   "name": "python",
   "nbconvert_exporter": "python",
   "pygments_lexer": "ipython2",
   "version": "2.7.6"
  }
 },
 "nbformat": 4,
 "nbformat_minor": 5
}
